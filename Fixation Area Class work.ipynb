{
 "cells": [
  {
   "cell_type": "code",
   "execution_count": 7,
   "metadata": {
    "collapsed": true
   },
   "outputs": [],
   "source": [
    "import numpy as np\n",
    "import matplotlib.pylab as plt\n",
    "%matplotlib inline"
   ]
  },
  {
   "cell_type": "markdown",
   "metadata": {},
   "source": [
    "$$ Velocity_{[n]} = \\frac{^{SR\\times}(x_{[n+2]}+x_{[n+1]}-x_{[n-1]}-x_{[n-2]})}{6\\times PPD_{[n]}}$$"
   ]
  },
  {
   "cell_type": "markdown",
   "metadata": {},
   "source": [
    "### Determine if point is within a circle"
   ]
  },
  {
   "cell_type": "code",
   "execution_count": 159,
   "metadata": {
    "collapsed": false
   },
   "outputs": [],
   "source": [
    "from IPython.display import IFrame, HTML"
   ]
  },
  {
   "cell_type": "code",
   "execution_count": 167,
   "metadata": {
    "collapsed": false,
    "scrolled": true
   },
   "outputs": [
    {
     "data": {
      "text/html": [
       "\n",
       "        <iframe\n",
       "            width=\"600\"\n",
       "            height=\"800\"\n",
       "            src=\"http://zetcode.com/lang/python/oop/\"\n",
       "            frameborder=\"0\"\n",
       "            allowfullscreen\n",
       "        ></iframe>\n",
       "        "
      ],
      "text/plain": [
       "<IPython.lib.display.IFrame at 0x109f2a490>"
      ]
     },
     "execution_count": 167,
     "metadata": {},
     "output_type": "execute_result"
    }
   ],
   "source": [
    "IFrame('http://zetcode.com/lang/python/oop/',600,800)"
   ]
  },
  {
   "cell_type": "markdown",
   "metadata": {},
   "source": [
    "$$ (x - center_x)^2 + (y - center_y)^2 < radius^2 $$"
   ]
  },
  {
   "cell_type": "code",
   "execution_count": 168,
   "metadata": {
    "collapsed": true
   },
   "outputs": [
    {
     "name": "stdout",
     "output_type": "stream",
     "text": [
      "Writing __init__.py\n"
     ]
    }
   ],
   "source": [
    "%%writefile __init__.py\n",
    "#empty init file"
   ]
  },
  {
   "cell_type": "code",
   "execution_count": 176,
   "metadata": {
    "collapsed": true
   },
   "outputs": [],
   "source": [
    "mkdir visneuro"
   ]
  },
  {
   "cell_type": "code",
   "execution_count": 178,
   "metadata": {
    "collapsed": false
   },
   "outputs": [],
   "source": [
    "!mv  modules/saccade_adaptation.py visneuro"
   ]
  },
  {
   "cell_type": "code",
   "execution_count": 182,
   "metadata": {
    "collapsed": false
   },
   "outputs": [],
   "source": [
    "rmdir modules"
   ]
  },
  {
   "cell_type": "code",
   "execution_count": 184,
   "metadata": {
    "collapsed": false
   },
   "outputs": [
    {
     "name": "stdout",
     "output_type": "stream",
     "text": [
      "__init__.py            saccade_adaptation.py\r\n"
     ]
    }
   ],
   "source": [
    "ls visneuro/"
   ]
  },
  {
   "cell_type": "code",
   "execution_count": 186,
   "metadata": {
    "collapsed": false
   },
   "outputs": [
    {
     "name": "stdout",
     "output_type": "stream",
     "text": [
      "Overwriting visneuro/saccade_adaptation.py\n"
     ]
    }
   ],
   "source": [
    "%%writefile visneuro/saccade_adaptation.py\n",
    "#!/usr/bin/python\n",
    "\n",
    "# saccade_adaptation.py\n",
    "\n",
    "import numpy as np\n",
    "\n",
    "class fixation_area:\n",
    "    '''\n",
    "    takes radius and x,y coordinates and creates a circle defining a fixation area\n",
    "    able to set radius, position\n",
    "    calculates area\n",
    "    returns radius,area,position\n",
    "    '''\n",
    "    pi = np.pi\n",
    "\n",
    "    def __init__(self, radius=1,x = 0,y = 0):\n",
    "        self.radius = radius\n",
    "        self.x = x\n",
    "        self.y = y\n",
    "\n",
    "    def area(self):\n",
    "        return self.radius * self.radius * Circle.pi\n",
    "\n",
    "    def set_radius(self, radius):\n",
    "        self.radius = radius\n",
    "    \n",
    "    def set_position(self,x,y):\n",
    "        self.x,self.y = x,y\n",
    "\n",
    "    def get_radius(self):\n",
    "        return self.radius\n",
    "\n",
    "    def get_position(self):\n",
    "        return self.x,self.y\n",
    "    \n",
    "def check_fixation_area(target_circle ,view_x=0,view_y=0):\n",
    "    '''\n",
    "    Takes a target_circle class object (as defined by fixationArea()), eyetracker x and y positions float values\n",
    "    and calculates if eye position (x,y) is within the radius of the fixation area\n",
    "    returns True or False.\n",
    "    '''\n",
    "    \n",
    "    centre_x, centre_y = target_circle.get_position()[0], target_circle.get_position()[1]\n",
    "    radius = target_circle.get_radius()\n",
    "    if (view_x - centre_x)**2 + (view_y - centre_y)**2 < radius**2:\n",
    "        return True\n",
    "    else:\n",
    "        return False\n",
    "    \n",
    "if __name__ == '__main__':\n",
    "    pass\n",
    "    \n"
   ]
  },
  {
   "cell_type": "code",
   "execution_count": 122,
   "metadata": {
    "collapsed": false
   },
   "outputs": [
    {
     "name": "stdout",
     "output_type": "stream",
     "text": [
      "5\n",
      "78.5398163397\n",
      "(5, 2)\n"
     ]
    }
   ],
   "source": [
    "c = fixation_area()\n",
    "\n",
    "c.set_radius(5)\n",
    "c.set_position(5,2)\n",
    "print c.get_radius()\n",
    "print c.area()\n",
    "print c.get_position()"
   ]
  },
  {
   "cell_type": "code",
   "execution_count": 123,
   "metadata": {
    "collapsed": true
   },
   "outputs": [],
   "source": [
    "centre_x, centre_y = c.get_position()[0], c.get_position()[1]"
   ]
  },
  {
   "cell_type": "code",
   "execution_count": 124,
   "metadata": {
    "collapsed": true
   },
   "outputs": [],
   "source": [
    "radius = c.get_radius()"
   ]
  },
  {
   "cell_type": "code",
   "execution_count": 145,
   "metadata": {
    "collapsed": false
   },
   "outputs": [],
   "source": [
    "def checkFixationArea(target_circle ,view_x=0,view_y=0):\n",
    "    '''\n",
    "    Takes a target_circle class object (as defined by fixationArea()), eyetracker x and y positions float values\n",
    "    and calculates if eye position (x,y) is within the radius of the fixation area\n",
    "    returns True or False.\n",
    "    '''\n",
    "    \n",
    "    centre_x, centre_y = target_circle.get_position()[0], target_circle.get_position()[1]\n",
    "    radius = target_circle.get_radius()\n",
    "    if (view_x - centre_x)**2 + (view_y - centre_y)**2 < radius**2:\n",
    "        return True\n",
    "    else:\n",
    "        return False"
   ]
  },
  {
   "cell_type": "code",
   "execution_count": 146,
   "metadata": {
    "collapsed": true
   },
   "outputs": [],
   "source": [
    "b = fixation_area(4.7876,7.6764,0.1234)"
   ]
  },
  {
   "cell_type": "code",
   "execution_count": 147,
   "metadata": {
    "collapsed": false
   },
   "outputs": [
    {
     "data": {
      "text/plain": [
       "4.7876"
      ]
     },
     "execution_count": 147,
     "metadata": {},
     "output_type": "execute_result"
    }
   ],
   "source": [
    "b.get_radius()"
   ]
  },
  {
   "cell_type": "code",
   "execution_count": 148,
   "metadata": {
    "collapsed": false
   },
   "outputs": [
    {
     "data": {
      "text/plain": [
       "False"
      ]
     },
     "execution_count": 148,
     "metadata": {},
     "output_type": "execute_result"
    }
   ],
   "source": [
    "check_fixation_area(b,20,1.5)"
   ]
  }
 ],
 "metadata": {
  "kernelspec": {
   "display_name": "Python 2",
   "language": "python",
   "name": "python2"
  },
  "language_info": {
   "codemirror_mode": {
    "name": "ipython",
    "version": 2
   },
   "file_extension": ".py",
   "mimetype": "text/x-python",
   "name": "python",
   "nbconvert_exporter": "python",
   "pygments_lexer": "ipython2",
   "version": "2.7.10"
  }
 },
 "nbformat": 4,
 "nbformat_minor": 0
}
